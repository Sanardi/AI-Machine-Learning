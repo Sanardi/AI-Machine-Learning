{
 "cells": [
  {
   "cell_type": "code",
   "execution_count": 22,
   "metadata": {},
   "outputs": [],
   "source": [
    "from textblob import TextBlob\n",
    "from textblob import Word\n",
    "\n",
    "from collections import Counter\n",
    "#!python -m textblob.download_corpora"
   ]
  },
  {
   "cell_type": "code",
   "execution_count": 23,
   "metadata": {},
   "outputs": [],
   "source": [
    "def encrypt(text,s):\n",
    "    text = text.lower()\n",
    "    result = \"\"\n",
    "   # transverse the plain text\n",
    "    for i in range(len(text)):\n",
    "        char = text[i]\n",
    "      # Encrypt uppercase characters in plain text\n",
    "      \n",
    "        result += chr((ord(char) + s - 97) % 26 + 97)\n",
    "    return result"
   ]
  },
  {
   "cell_type": "markdown",
   "metadata": {},
   "source": [
    "# Please enter your secret below to get it enrypted and then try the NLP decrypter:"
   ]
  },
  {
   "cell_type": "code",
   "execution_count": 32,
   "metadata": {},
   "outputs": [
    {
     "name": "stdout",
     "output_type": "stream",
     "text": [
      "what else can I tell you, I dont have that many secrets. Let us see\n"
     ]
    }
   ],
   "source": [
    "my_secret = input()"
   ]
  },
  {
   "cell_type": "code",
   "execution_count": 33,
   "metadata": {},
   "outputs": [
    {
     "name": "stdout",
     "output_type": "stream",
     "text": [
      "what else can I tell you, I dont have that many secrets. Let us see  this encrypts to:  alexripwirgerrmrxipprcsydrmrhsrxrlezirxlexrqercrwigvixwfrpixrywrwii\n"
     ]
    }
   ],
   "source": [
    "\n",
    "s = 4\n",
    "\n",
    "message1 = encrypt(my_secret,s)\n",
    "print(my_secret, \" this encrypts to: \", message1)"
   ]
  },
  {
   "cell_type": "code",
   "execution_count": 34,
   "metadata": {},
   "outputs": [],
   "source": [
    "\n",
    "class sanardi_decrypts:\n",
    "    def __init__(self, text, top = 5):\n",
    "        self.text = text\n",
    "        self.top = top\n",
    "        \n",
    "    def __str__(self):\n",
    "        return '''This Class lets pass as Argument\n",
    "        the text to be encrypted and will try different decryption \n",
    "        algoritms using NLP and Bayesian Statistics to decide if \n",
    "        the method is likely to result in intelligible text or move on, thus reducing computational expense'''\n",
    "    \n",
    "    \n",
    "    \n",
    "    def _getMaxOccuringChar(self):\n",
    "    \n",
    "        top_seperators = []\n",
    "        count = Counter(self.text)\n",
    "        dictcount = dict(count)\n",
    "        for i in range(self.top):\n",
    "            max_occur = max(dictcount.keys(), key=(lambda k: dictcount[k]))\n",
    "            top_seperators.append(max_occur)\n",
    "            dictcount.pop(max_occur)\n",
    "        return top_seperators \n",
    "\n",
    "    def _decrypt_with_key(self, seperator,key):\n",
    "        text = self.text.lower()\n",
    "        result = \"\"\n",
    "       # transverse the plain text\n",
    "        for i in range(len(text)):\n",
    "            char = text[i]\n",
    "          # Encrypt uppercase characters in plain text\n",
    "      \n",
    "            result += chr((ord(char) - key - 97) % 26 + 97)\n",
    "        return result\n",
    "\n",
    "\n",
    "    def _go_ceasar(self):\n",
    "        potential_seperators = self._getMaxOccuringChar()\n",
    "        print(\"trying separators: \", potential_seperators)\n",
    "        \n",
    "    \n",
    "        for seperator in potential_seperators:\n",
    "            print(\"trying seperator: \", seperator)\n",
    "            test_text = self.text[:100]\n",
    "            #print(\"sample text: \", test_text)\n",
    "            message = test_text.replace(seperator, \" \")\n",
    "            #message = test_text\n",
    "            LETTERS = \"abcdefghijklmnopqrstuvwxyz\"\n",
    "            for key in range(len(LETTERS)):\n",
    "                translated = ''\n",
    "                for symbol in message:\n",
    "                    if symbol in LETTERS:\n",
    "                        num = LETTERS.find(symbol)\n",
    "                        num = num - key\n",
    "                        if num < 0:\n",
    "                            num = num + len(LETTERS)\n",
    "                        translated = translated + LETTERS[num]\n",
    "                    else:\n",
    "                        translated = translated + symbol\n",
    "                print('Hacking key #%s: %s' % (key, translated))\n",
    "            \n",
    "                blob = TextBlob(translated.lower())\n",
    "                verbs = []\n",
    "                tags = dict(blob.tags)\n",
    "                print(tags)\n",
    "                \n",
    "                if \"VBP\" in tags.values() and \"JJ\" in tags.values() or \"VB\" in tags.values() and \"JJ\" in tags.values() or \"DT\" in tags.values() and \"VB\" in tags.values() or \"TO\" in tags.values() and \"VB\" in tags.values():\n",
    "                \n",
    "                    print (\"This seems to be real text...\")\n",
    "                    new_seperator = self._decrypt_with_key(seperator, key)\n",
    "                    print(key)\n",
    "                    \n",
    "                    good_text = self.text.replace(new_seperator, \" \")\n",
    "                    #decrypted = decrypt_with_key(good_text, key)\n",
    "                    #good_text = decrypted.replace(new_seperator, \" \")\n",
    "                    \n",
    "                    #decrypted = TextBlob(good_text)\n",
    "                    #decrypted = decrypted.correct()\n",
    "                    return \"Your Ceasar Hacking key is {} and your message is:  {}\".format(key, translated)\n",
    "                    #return \"Your Ceasar Hacking key is {} and your message is:  {}\".format(key, str(good_text))\n",
    "    def run(self):\n",
    "        print(\"I will now check for ceasar cypher\")\n",
    "        result = self._go_ceasar()\n",
    "        return result"
   ]
  },
  {
   "cell_type": "code",
   "execution_count": 35,
   "metadata": {},
   "outputs": [],
   "source": [
    "try_this_class = sanardi_decrypts(message1, 5)"
   ]
  },
  {
   "cell_type": "code",
   "execution_count": 36,
   "metadata": {},
   "outputs": [
    {
     "name": "stdout",
     "output_type": "stream",
     "text": [
      "I will now check for ceasar cypher\n",
      "trying separators:  ['r', 'i', 'x', 'e', 'w']\n",
      "trying seperator:  r\n",
      "Hacking key #0: alex ipwi ge  m xipp csyd m hs x lezi xlex qe c wigvixwf pix yw wii\n",
      "{'alex': 'JJ', 'ipwi': 'NN', 'ge': 'NN', 'm': 'NN', 'xipp': 'NNP', 'csyd': 'NN', 'hs': 'NN', 'x': 'NNP', 'lezi': 'NN', 'xlex': 'NNP', 'qe': 'NN', 'c': 'NN', 'wigvixwf': 'NN', 'pix': 'NN', 'yw': 'NN', 'wii': 'NN'}\n",
      "Hacking key #1: zkdw hovh fd  l whoo brxc l gr w kdyh wkdw pd b vhfuhwve ohw xv vhh\n",
      "{'zkdw': 'NN', 'hovh': 'NN', 'fd': 'NN', 'l': 'NN', 'whoo': 'NN', 'brxc': 'NN', 'gr': 'NN', 'w': 'NN', 'kdyh': 'NN', 'wkdw': 'NN', 'pd': 'NN', 'b': 'NN', 'vhfuhwve': 'NN', 'ohw': 'NN', 'xv': 'NNP', 'vhh': 'NN'}\n",
      "Hacking key #2: yjcv gnug ec  k vgnn aqwb k fq v jcxg vjcv oc a ugetgvud ngv wu ugg\n",
      "{'yjcv': 'NN', 'gnug': 'NN', 'ec': 'NN', 'k': 'NN', 'vgnn': 'NN', 'aqwb': 'NN', 'fq': 'JJ', 'v': 'NN', 'jcxg': 'NN', 'vjcv': 'NN', 'oc': 'IN', 'a': 'DT', 'ugetgvud': 'JJ', 'ngv': 'NN', 'wu': 'NN', 'ugg': 'NN'}\n",
      "Hacking key #3: xibu fmtf db  j ufmm zpva j ep u ibwf uibu nb z tfdsfutc mfu vt tff\n",
      "{'xibu': 'JJ', 'fmtf': 'NN', 'db': 'NN', 'j': 'NN', 'ufmm': 'JJ', 'zpva': 'NNP', 'ep': 'NN', 'u': 'JJ', 'ibwf': 'NN', 'uibu': 'JJ', 'nb': 'JJ', 'z': 'NN', 'tfdsfutc': 'NN', 'mfu': 'NN', 'vt': 'NN', 'tff': 'NN'}\n",
      "Hacking key #4: what else ca  i tell youz i do t have that ma y secretsb let us see\n",
      "{'what': 'WP', 'else': 'VBD', 'ca': 'MD', 'i': 'NN', 'tell': 'VBP', 'youz': 'NN', 'do': 'VBP', 't': 'NNS', 'have': 'VB', 'that': 'DT', 'ma': 'NN', 'y': 'RB', 'secretsb': 'JJ', 'let': 'VB', 'us': 'PRP', 'see': 'VB'}\n",
      "This seems to be real text...\n",
      "4\n"
     ]
    },
    {
     "data": {
      "text/plain": [
       "'Your Ceasar Hacking key is 4 and your message is:  what else ca  i tell youz i do t have that ma y secretsb let us see'"
      ]
     },
     "execution_count": 36,
     "metadata": {},
     "output_type": "execute_result"
    }
   ],
   "source": [
    "try_this_class.run()"
   ]
  },
  {
   "cell_type": "markdown",
   "metadata": {},
   "source": [
    "# So the NLP can recognize that the first 3 keys do not produce intelligible text, but the 4th does, therefore it stops decrypting once it found real text. "
   ]
  },
  {
   "cell_type": "code",
   "execution_count": null,
   "metadata": {},
   "outputs": [],
   "source": []
  }
 ],
 "metadata": {
  "kernelspec": {
   "display_name": "Python 3",
   "language": "python",
   "name": "python3"
  },
  "language_info": {
   "codemirror_mode": {
    "name": "ipython",
    "version": 3
   },
   "file_extension": ".py",
   "mimetype": "text/x-python",
   "name": "python",
   "nbconvert_exporter": "python",
   "pygments_lexer": "ipython3",
   "version": "3.7.4"
  }
 },
 "nbformat": 4,
 "nbformat_minor": 2
}
