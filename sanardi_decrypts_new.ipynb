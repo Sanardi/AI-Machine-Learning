{
 "cells": [
  {
   "cell_type": "code",
   "execution_count": 22,
   "metadata": {},
   "outputs": [],
   "source": [
    "from textblob import TextBlob\n",
    "from textblob import Word\n",
    "\n",
    "from collections import Counter\n",
    "#!python -m textblob.download_corpora"
   ]
  },
  {
   "cell_type": "code",
   "execution_count": 23,
   "metadata": {},
   "outputs": [],
   "source": [
    "def encrypt(text,s):\n",
    "    text = text.lower()\n",
    "    result = \"\"\n",
    "   # transverse the plain text\n",
    "    for i in range(len(text)):\n",
    "        char = text[i]\n",
    "      # Encrypt uppercase characters in plain text\n",
    "      \n",
    "        result += chr((ord(char) + s - 97) % 26 + 97)\n",
    "    return result"
   ]
  },
  {
   "cell_type": "markdown",
   "metadata": {},
   "source": [
    "# Please enter your secret below to get it enrypted and then try the NLP decrypter:"
   ]
  },
  {
   "cell_type": "code",
   "execution_count": 41,
   "metadata": {},
   "outputs": [
    {
     "name": "stdout",
     "output_type": "stream",
     "text": [
      "another secret message. I love Richard, oh my god did I just write that\n"
     ]
    }
   ],
   "source": [
    "my_secret = input()"
   ]
  },
  {
   "cell_type": "code",
   "execution_count": 42,
   "metadata": {},
   "outputs": [
    {
     "name": "stdout",
     "output_type": "stream",
     "text": [
      "another secret message. I love Richard, oh my god did I just write that  this encrypts to:  ersxlivrwigvixrqiwwekifrmrpszirvmglevhdrslrqcrkshrhmhrmrnywxravmxirxlex\n"
     ]
    }
   ],
   "source": [
    "\n",
    "s = 4\n",
    "\n",
    "message1 = encrypt(my_secret,s)\n",
    "print(my_secret, \" this encrypts to: \", message1)"
   ]
  },
  {
   "cell_type": "code",
   "execution_count": 46,
   "metadata": {},
   "outputs": [],
   "source": [
    "\n",
    "class sanardi_decrypts:\n",
    "    def __init__(self, text, top = 5):\n",
    "        self.text = text\n",
    "        self.top = top\n",
    "        \n",
    "    def __str__(self):\n",
    "        return '''This Class lets pass as Argument\n",
    "        the text to be encrypted and will try different decryption \n",
    "        algoritms using NLP and Bayesian Statistics to decide if \n",
    "        the method is likely to result in intelligible text or move on, thus reducing computational expense'''\n",
    "    \n",
    "    \n",
    "    \n",
    "    def _getMaxOccuringChar(self):\n",
    "    \n",
    "        top_seperators = []\n",
    "        count = Counter(self.text)\n",
    "        dictcount = dict(count)\n",
    "        for i in range(self.top):\n",
    "            max_occur = max(dictcount.keys(), key=(lambda k: dictcount[k]))\n",
    "            top_seperators.append(max_occur)\n",
    "            dictcount.pop(max_occur)\n",
    "        return top_seperators \n",
    "\n",
    "    def _decrypt_with_key(self, seperator,key):\n",
    "        text = self.text.lower()\n",
    "        result = \"\"\n",
    "       # transverse the plain text\n",
    "        for i in range(len(text)):\n",
    "            char = text[i]\n",
    "          # Encrypt uppercase characters in plain text\n",
    "      \n",
    "            result += chr((ord(char) - key - 97) % 26 + 97)\n",
    "        return result\n",
    "\n",
    "\n",
    "    def _go_ceasar(self):\n",
    "        potential_seperators = self._getMaxOccuringChar()\n",
    "        print(\"trying separators: \", potential_seperators)\n",
    "        \n",
    "    \n",
    "        for seperator in potential_seperators:\n",
    "            print(\"trying seperator: \", seperator)\n",
    "            test_text = self.text[:100]\n",
    "            #print(\"sample text: \", test_text)\n",
    "            message = test_text.replace(seperator, \" \")\n",
    "            #message = test_text\n",
    "            LETTERS = \"abcdefghijklmnopqrstuvwxyz\"\n",
    "            for key in range(len(LETTERS)):\n",
    "                translated = ''\n",
    "                for symbol in message:\n",
    "                    if symbol in LETTERS:\n",
    "                        num = LETTERS.find(symbol)\n",
    "                        num = num - key\n",
    "                        if num < 0:\n",
    "                            num = num + len(LETTERS)\n",
    "                        translated = translated + LETTERS[num]\n",
    "                    else:\n",
    "                        translated = translated + symbol\n",
    "                print('Hacking key #%s: %s' % (key, translated))\n",
    "            \n",
    "                blob = TextBlob(translated.lower())\n",
    "                verbs = []\n",
    "                tags = dict(blob.tags)\n",
    "                print(tags)\n",
    "                \n",
    "                if \"VB\" in tags.values() and \"JJ\" in tags.values() or \"VB\" in tags.values() and \"JJ\" in tags.values() or \"DT\" in tags.values() and \"VB\" in tags.values() or \"TO\" in tags.values() and \"VB\" in tags.values():\n",
    "                \n",
    "                    print (\"This seems to be real text...\")\n",
    "                    new_seperator = self._decrypt_with_key(seperator, key)\n",
    "                    print(key)\n",
    "                    \n",
    "                    good_text = self.text.replace(new_seperator, \" \")\n",
    "                    #decrypted = decrypt_with_key(good_text, key)\n",
    "                    #good_text = decrypted.replace(new_seperator, \" \")\n",
    "                    \n",
    "                    decrypted = TextBlob(translated)\n",
    "                    decrypted = decrypted.correct()\n",
    "                    #return \"Your Ceasar Hacking key is {} and your message is:  {}\".format(key, translated)\n",
    "                    return \"Your Ceasar Hacking key is {} and your message is:  {}\".format(key, str(decrypted))\n",
    "    def run(self):\n",
    "        print(\"I will now check for ceasar cypher\")\n",
    "        result = self._go_ceasar()\n",
    "        return result"
   ]
  },
  {
   "cell_type": "code",
   "execution_count": 47,
   "metadata": {},
   "outputs": [],
   "source": [
    "try_this_class = sanardi_decrypts(message1, 5)"
   ]
  },
  {
   "cell_type": "code",
   "execution_count": 48,
   "metadata": {},
   "outputs": [
    {
     "name": "stdout",
     "output_type": "stream",
     "text": [
      "I will now check for ceasar cypher\n",
      "trying separators:  ['r', 'i', 'x', 'v', 'm']\n",
      "trying seperator:  r\n",
      "Hacking key #0: e sxliv wigvix qiwwekif m pszi vmglevhd sl qc ksh hmh m nywx avmxi xlex\n",
      "{'e': 'NN', 'sxliv': 'NN', 'wigvix': 'NN', 'qiwwekif': 'NN', 'm': 'NN', 'pszi': 'NN', 'vmglevhd': 'NN', 'sl': 'NN', 'qc': 'NN', 'ksh': 'NN', 'hmh': 'NN', 'nywx': 'JJ', 'avmxi': 'NN', 'xlex': 'NN'}\n",
      "Hacking key #1: d rwkhu vhfuhw phvvdjhe l oryh ulfkdugc rk pb jrg glg l mxvw zulwh wkdw\n",
      "{'d': 'NN', 'rwkhu': 'NN', 'vhfuhw': 'NN', 'phvvdjhe': 'NN', 'l': 'NN', 'oryh': 'NN', 'ulfkdugc': 'JJ', 'rk': 'NN', 'pb': 'NN', 'jrg': 'NN', 'glg': 'NN', 'mxvw': 'NN', 'zulwh': 'NN', 'wkdw': 'NN'}\n",
      "Hacking key #2: c qvjgt ugetgv oguucigd k nqxg tkejctfb qj oa iqf fkf k lwuv ytkvg vjcv\n",
      "{'c': 'NNS', 'qvjgt': 'VBP', 'ugetgv': 'JJ', 'oguucigd': 'NN', 'k': 'NN', 'nqxg': 'JJ', 'tkejctfb': 'NN', 'qj': 'NN', 'oa': 'NN', 'iqf': 'NN', 'fkf': 'NN', 'lwuv': 'VBZ', 'ytkvg': 'CD', 'vjcv': 'NN'}\n",
      "Hacking key #3: b puifs tfdsfu nfttbhfc j mpwf sjdibsea pi nz hpe eje j kvtu xsjuf uibu\n",
      "{'b': 'NN', 'puifs': 'NN', 'tfdsfu': 'NN', 'nfttbhfc': 'JJ', 'j': 'NN', 'mpwf': 'NN', 'sjdibsea': 'NN', 'pi': 'NN', 'nz': 'JJ', 'hpe': 'NN', 'eje': 'NN', 'kvtu': 'NN', 'xsjuf': 'NNP', 'uibu': 'NN'}\n",
      "Hacking key #4: a other secret messageb i love richardz oh my god did i just write that\n",
      "{'a': 'DT', 'other': 'JJ', 'secret': 'JJ', 'messageb': 'NN', 'i': 'VB', 'love': 'VBP', 'richardz': 'NN', 'oh': 'UH', 'my': 'PRP$', 'god': 'NN', 'did': 'VBD', 'just': 'RB', 'write': 'VB', 'that': 'IN'}\n",
      "This seems to be real text...\n",
      "4\n"
     ]
    },
    {
     "data": {
      "text/plain": [
       "'Your Ceasar Hacking key is 4 and your message is:  a other secret message i love richard oh my god did i just write that'"
      ]
     },
     "execution_count": 48,
     "metadata": {},
     "output_type": "execute_result"
    }
   ],
   "source": [
    "try_this_class.run()"
   ]
  },
  {
   "cell_type": "markdown",
   "metadata": {},
   "source": [
    "# So the NLP can recognize that the first 3 keys do not produce intelligible text, but the 4th does, therefore it stops decrypting once it found real text. "
   ]
  },
  {
   "cell_type": "code",
   "execution_count": null,
   "metadata": {},
   "outputs": [],
   "source": []
  }
 ],
 "metadata": {
  "kernelspec": {
   "display_name": "Python 3",
   "language": "python",
   "name": "python3"
  },
  "language_info": {
   "codemirror_mode": {
    "name": "ipython",
    "version": 3
   },
   "file_extension": ".py",
   "mimetype": "text/x-python",
   "name": "python",
   "nbconvert_exporter": "python",
   "pygments_lexer": "ipython3",
   "version": "3.7.4"
  }
 },
 "nbformat": 4,
 "nbformat_minor": 2
}
