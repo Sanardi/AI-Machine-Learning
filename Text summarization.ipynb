{
 "cells": [
  {
   "cell_type": "code",
   "execution_count": 1,
   "metadata": {},
   "outputs": [
    {
     "name": "stderr",
     "output_type": "stream",
     "text": [
      "[nltk_data] Downloading package punkt to\n",
      "[nltk_data]     C:\\Users\\bla\\AppData\\Roaming\\nltk_data...\n",
      "[nltk_data]   Package punkt is already up-to-date!\n"
     ]
    }
   ],
   "source": [
    "import numpy as np\n",
    "import pandas as pd\n",
    "import nltk\n",
    "nltk.download('punkt') # one time execution\n",
    "import re"
   ]
  },
  {
   "cell_type": "code",
   "execution_count": 81,
   "metadata": {},
   "outputs": [],
   "source": [
    "import pandas as pd\n",
    "from newsapi import NewsApiClient\n",
    "\n",
    "# Init\n",
    "newsapi = NewsApiClient(api_key='enter you api key here')\n",
    "\n",
    "\n",
    "\n",
    "# /v2/everything\n",
    "all_articles = newsapi.get_everything(q='Brazil',\n",
    "                                      sources='bbc-news,the-verge',\n",
    "                                      domains='bbc.co.uk,techcrunch.com',\n",
    "                                      from_param='2020-08-26',\n",
    "                                      to='2020-08-28',\n",
    "                                      language='en',\n",
    "        \n",
    "                                      sort_by='relevancy',\n",
    "                                      page=1)\n",
    "\n",
    "\n",
    "\n",
    "df1 = pd.DataFrame.from_dict(all_articles['articles'])"
   ]
  },
  {
   "cell_type": "code",
   "execution_count": 82,
   "metadata": {},
   "outputs": [
    {
     "data": {
      "text/html": [
       "<div>\n",
       "<style scoped>\n",
       "    .dataframe tbody tr th:only-of-type {\n",
       "        vertical-align: middle;\n",
       "    }\n",
       "\n",
       "    .dataframe tbody tr th {\n",
       "        vertical-align: top;\n",
       "    }\n",
       "\n",
       "    .dataframe thead th {\n",
       "        text-align: right;\n",
       "    }\n",
       "</style>\n",
       "<table border=\"1\" class=\"dataframe\">\n",
       "  <thead>\n",
       "    <tr style=\"text-align: right;\">\n",
       "      <th></th>\n",
       "      <th>source</th>\n",
       "      <th>author</th>\n",
       "      <th>title</th>\n",
       "      <th>description</th>\n",
       "      <th>url</th>\n",
       "      <th>urlToImage</th>\n",
       "      <th>publishedAt</th>\n",
       "      <th>content</th>\n",
       "    </tr>\n",
       "  </thead>\n",
       "  <tbody>\n",
       "    <tr>\n",
       "      <td>0</td>\n",
       "      <td>{'id': 'bbc-news', 'name': 'BBC News'}</td>\n",
       "      <td>None</td>\n",
       "      <td>Messi contacted Guardiola before Barca transfe...</td>\n",
       "      <td>Lionel Messi tipped off Pep Guardiola over tra...</td>\n",
       "      <td>https://www.bbc.co.uk/sport/53937544</td>\n",
       "      <td>https://ichef.bbci.co.uk/live-experience/cps/6...</td>\n",
       "      <td>2020-08-27T22:24:02Z</td>\n",
       "      <td>Argentina forward Lionel Messi, 33, contacted ...</td>\n",
       "    </tr>\n",
       "    <tr>\n",
       "      <td>1</td>\n",
       "      <td>{'id': 'bbc-news', 'name': 'BBC News'}</td>\n",
       "      <td>None</td>\n",
       "      <td>Could Berlusconi take Italian side Monza to Se...</td>\n",
       "      <td>Silvio Berlusconi has brought money, links to ...</td>\n",
       "      <td>https://www.bbc.co.uk/sport/football/53877763</td>\n",
       "      <td>https://ichef.bbci.co.uk/onesport/cps/624/cpsp...</td>\n",
       "      <td>2020-08-27T06:08:24Z</td>\n",
       "      <td>Former Italian Prime Minister Silvio Berluscon...</td>\n",
       "    </tr>\n",
       "    <tr>\n",
       "      <td>2</td>\n",
       "      <td>{'id': 'bbc-news', 'name': 'BBC News'}</td>\n",
       "      <td>https://www.facebook.com/bbcnews</td>\n",
       "      <td>Carnival and coronavouchers: Brazil’s economic...</td>\n",
       "      <td>The disruption caused by coronavirus means tha...</td>\n",
       "      <td>https://www.bbc.co.uk/news/world-latin-america...</td>\n",
       "      <td>https://ichef.bbci.co.uk/news/1024/branded_new...</td>\n",
       "      <td>2020-08-26T00:38:37Z</td>\n",
       "      <td>Image copyrightGetty ImagesImage caption\\r\\n T...</td>\n",
       "    </tr>\n",
       "    <tr>\n",
       "      <td>3</td>\n",
       "      <td>{'id': 'bbc-news', 'name': 'BBC News'}</td>\n",
       "      <td>https://www.facebook.com/bbcnews</td>\n",
       "      <td>In pictures: Mexico school classes resume on TV</td>\n",
       "      <td>With many families having no access to the int...</td>\n",
       "      <td>https://www.bbc.co.uk/news/world-latin-america...</td>\n",
       "      <td>https://ichef.bbci.co.uk/news/1024/branded_new...</td>\n",
       "      <td>2020-08-26T11:16:14Z</td>\n",
       "      <td>Image copyrightReuters\\r\\nSchool lessons have ...</td>\n",
       "    </tr>\n",
       "    <tr>\n",
       "      <td>4</td>\n",
       "      <td>{'id': 'bbc-news', 'name': 'BBC News'}</td>\n",
       "      <td>None</td>\n",
       "      <td>Thiago Silva: Chelsea sign Brazil defender on ...</td>\n",
       "      <td>Brazil centre-back Thiago Silva signs for Chel...</td>\n",
       "      <td>https://www.bbc.co.uk/sport/53920170</td>\n",
       "      <td>https://ichef.bbci.co.uk/live-experience/cps/6...</td>\n",
       "      <td>2020-08-28T10:46:33Z</td>\n",
       "      <td>Brazil centre-back Thiago Silva has signed for...</td>\n",
       "    </tr>\n",
       "    <tr>\n",
       "      <td>5</td>\n",
       "      <td>{'id': 'bbc-news', 'name': 'BBC News'}</td>\n",
       "      <td>None</td>\n",
       "      <td>Meet 'the biggest Sunday League team in the wo...</td>\n",
       "      <td>Thousands of fans, selling shirts and dominati...</td>\n",
       "      <td>https://www.bbc.co.uk/sport/football/53892512</td>\n",
       "      <td>https://ichef.bbci.co.uk/onesport/cps/624/cpsp...</td>\n",
       "      <td>2020-08-26T05:25:30Z</td>\n",
       "      <td>Media playback is not supported on this device...</td>\n",
       "    </tr>\n",
       "    <tr>\n",
       "      <td>6</td>\n",
       "      <td>{'id': 'bbc-news', 'name': 'BBC News'}</td>\n",
       "      <td>None</td>\n",
       "      <td>Arsenal: Mikel Arteta 'feels' Pierre-Emerick A...</td>\n",
       "      <td>Arsenal boss Mikel Arteta is \"pretty confident...</td>\n",
       "      <td>https://www.bbc.co.uk/sport/football/53936907</td>\n",
       "      <td>https://ichef.bbci.co.uk/onesport/cps/624/cpsp...</td>\n",
       "      <td>2020-08-27T15:22:09Z</td>\n",
       "      <td>Aubameyang has scored 54 Premier League goals ...</td>\n",
       "    </tr>\n",
       "  </tbody>\n",
       "</table>\n",
       "</div>"
      ],
      "text/plain": [
       "                                   source                            author  \\\n",
       "0  {'id': 'bbc-news', 'name': 'BBC News'}                              None   \n",
       "1  {'id': 'bbc-news', 'name': 'BBC News'}                              None   \n",
       "2  {'id': 'bbc-news', 'name': 'BBC News'}  https://www.facebook.com/bbcnews   \n",
       "3  {'id': 'bbc-news', 'name': 'BBC News'}  https://www.facebook.com/bbcnews   \n",
       "4  {'id': 'bbc-news', 'name': 'BBC News'}                              None   \n",
       "5  {'id': 'bbc-news', 'name': 'BBC News'}                              None   \n",
       "6  {'id': 'bbc-news', 'name': 'BBC News'}                              None   \n",
       "\n",
       "                                               title  \\\n",
       "0  Messi contacted Guardiola before Barca transfe...   \n",
       "1  Could Berlusconi take Italian side Monza to Se...   \n",
       "2  Carnival and coronavouchers: Brazil’s economic...   \n",
       "3    In pictures: Mexico school classes resume on TV   \n",
       "4  Thiago Silva: Chelsea sign Brazil defender on ...   \n",
       "5  Meet 'the biggest Sunday League team in the wo...   \n",
       "6  Arsenal: Mikel Arteta 'feels' Pierre-Emerick A...   \n",
       "\n",
       "                                         description  \\\n",
       "0  Lionel Messi tipped off Pep Guardiola over tra...   \n",
       "1  Silvio Berlusconi has brought money, links to ...   \n",
       "2  The disruption caused by coronavirus means tha...   \n",
       "3  With many families having no access to the int...   \n",
       "4  Brazil centre-back Thiago Silva signs for Chel...   \n",
       "5  Thousands of fans, selling shirts and dominati...   \n",
       "6  Arsenal boss Mikel Arteta is \"pretty confident...   \n",
       "\n",
       "                                                 url  \\\n",
       "0               https://www.bbc.co.uk/sport/53937544   \n",
       "1      https://www.bbc.co.uk/sport/football/53877763   \n",
       "2  https://www.bbc.co.uk/news/world-latin-america...   \n",
       "3  https://www.bbc.co.uk/news/world-latin-america...   \n",
       "4               https://www.bbc.co.uk/sport/53920170   \n",
       "5      https://www.bbc.co.uk/sport/football/53892512   \n",
       "6      https://www.bbc.co.uk/sport/football/53936907   \n",
       "\n",
       "                                          urlToImage           publishedAt  \\\n",
       "0  https://ichef.bbci.co.uk/live-experience/cps/6...  2020-08-27T22:24:02Z   \n",
       "1  https://ichef.bbci.co.uk/onesport/cps/624/cpsp...  2020-08-27T06:08:24Z   \n",
       "2  https://ichef.bbci.co.uk/news/1024/branded_new...  2020-08-26T00:38:37Z   \n",
       "3  https://ichef.bbci.co.uk/news/1024/branded_new...  2020-08-26T11:16:14Z   \n",
       "4  https://ichef.bbci.co.uk/live-experience/cps/6...  2020-08-28T10:46:33Z   \n",
       "5  https://ichef.bbci.co.uk/onesport/cps/624/cpsp...  2020-08-26T05:25:30Z   \n",
       "6  https://ichef.bbci.co.uk/onesport/cps/624/cpsp...  2020-08-27T15:22:09Z   \n",
       "\n",
       "                                             content  \n",
       "0  Argentina forward Lionel Messi, 33, contacted ...  \n",
       "1  Former Italian Prime Minister Silvio Berluscon...  \n",
       "2  Image copyrightGetty ImagesImage caption\\r\\n T...  \n",
       "3  Image copyrightReuters\\r\\nSchool lessons have ...  \n",
       "4  Brazil centre-back Thiago Silva has signed for...  \n",
       "5  Media playback is not supported on this device...  \n",
       "6  Aubameyang has scored 54 Premier League goals ...  "
      ]
     },
     "execution_count": 82,
     "metadata": {},
     "output_type": "execute_result"
    }
   ],
   "source": [
    "df1"
   ]
  },
  {
   "cell_type": "code",
   "execution_count": null,
   "metadata": {},
   "outputs": [],
   "source": []
  },
  {
   "cell_type": "code",
   "execution_count": null,
   "metadata": {},
   "outputs": [],
   "source": []
  },
  {
   "cell_type": "code",
   "execution_count": 83,
   "metadata": {},
   "outputs": [],
   "source": [
    "from nltk.tokenize import sent_tokenize\n",
    "sentences = []\n",
    "for s in df1['description']:\n",
    "  sentences.append(sent_tokenize(s))\n",
    "\n",
    "sentences = [y for x in sentences for y in x] # flatten list"
   ]
  },
  {
   "cell_type": "code",
   "execution_count": 84,
   "metadata": {},
   "outputs": [],
   "source": [
    "# Extract word vectors\n",
    "word_embeddings = {}\n",
    "f = open(r'data\\glove.6b\\glove.6B.100d.txt', encoding='utf-8')\n",
    "for line in f:\n",
    "    values = line.split()\n",
    "    word = values[0]\n",
    "    coefs = np.asarray(values[1:], dtype='float32')\n",
    "    word_embeddings[word] = coefs\n",
    "f.close()"
   ]
  },
  {
   "cell_type": "code",
   "execution_count": 85,
   "metadata": {},
   "outputs": [
    {
     "data": {
      "text/plain": [
       "400000"
      ]
     },
     "execution_count": 85,
     "metadata": {},
     "output_type": "execute_result"
    }
   ],
   "source": [
    "len(word_embeddings)"
   ]
  },
  {
   "cell_type": "code",
   "execution_count": 86,
   "metadata": {},
   "outputs": [],
   "source": [
    "# remove punctuations, numbers and special characters\n",
    "clean_sentences = pd.Series(sentences).str.replace(\"[^a-zA-Z]\", \" \")\n",
    "\n",
    "# make alphabets lowercase\n",
    "clean_sentences = [s.lower() for s in clean_sentences]"
   ]
  },
  {
   "cell_type": "code",
   "execution_count": 87,
   "metadata": {},
   "outputs": [
    {
     "name": "stderr",
     "output_type": "stream",
     "text": [
      "[nltk_data] Downloading package stopwords to\n",
      "[nltk_data]     C:\\Users\\bla\\AppData\\Roaming\\nltk_data...\n",
      "[nltk_data]   Package stopwords is already up-to-date!\n"
     ]
    },
    {
     "data": {
      "text/plain": [
       "True"
      ]
     },
     "execution_count": 87,
     "metadata": {},
     "output_type": "execute_result"
    }
   ],
   "source": [
    "nltk.download('stopwords')"
   ]
  },
  {
   "cell_type": "code",
   "execution_count": 88,
   "metadata": {},
   "outputs": [],
   "source": [
    "from nltk.corpus import stopwords\n",
    "stop_words = stopwords.words('english')"
   ]
  },
  {
   "cell_type": "code",
   "execution_count": 89,
   "metadata": {},
   "outputs": [],
   "source": [
    "# function to remove stopwords\n",
    "def remove_stopwords(sen):\n",
    "    sen_new = \" \".join([i for i in sen if i not in stop_words])\n",
    "    return sen_new"
   ]
  },
  {
   "cell_type": "code",
   "execution_count": 90,
   "metadata": {},
   "outputs": [],
   "source": [
    "# remove stopwords from the sentences\n",
    "clean_sentences = [remove_stopwords(r.split()) for r in clean_sentences]"
   ]
  },
  {
   "cell_type": "code",
   "execution_count": 91,
   "metadata": {},
   "outputs": [],
   "source": [
    "# Extract word vectors\n",
    "word_embeddings = {}\n",
    "f = open('data\\glove.6b\\glove.6B.100d.txt', encoding='utf-8')\n",
    "for line in f:\n",
    "    values = line.split()\n",
    "    word = values[0]\n",
    "    coefs = np.asarray(values[1:], dtype='float32')\n",
    "    word_embeddings[word] = coefs\n",
    "f.close()"
   ]
  },
  {
   "cell_type": "code",
   "execution_count": 92,
   "metadata": {},
   "outputs": [],
   "source": [
    "sentence_vectors = []\n",
    "for i in clean_sentences:\n",
    "  if len(i) != 0:\n",
    "    v = sum([word_embeddings.get(w, np.zeros((100,))) for w in i.split()])/(len(i.split())+0.001)\n",
    "  else:\n",
    "    v = np.zeros((100,))\n",
    "  sentence_vectors.append(v)"
   ]
  },
  {
   "cell_type": "code",
   "execution_count": 93,
   "metadata": {},
   "outputs": [],
   "source": [
    "# similarity matrix\n",
    "sim_mat = np.zeros([len(sentences), len(sentences)])"
   ]
  },
  {
   "cell_type": "code",
   "execution_count": 94,
   "metadata": {},
   "outputs": [],
   "source": [
    "from sklearn.metrics.pairwise import cosine_similarity"
   ]
  },
  {
   "cell_type": "code",
   "execution_count": 95,
   "metadata": {},
   "outputs": [],
   "source": [
    "for i in range(len(sentences)):\n",
    "  for j in range(len(sentences)):\n",
    "    if i != j:\n",
    "      sim_mat[i][j] = cosine_similarity(sentence_vectors[i].reshape(1,100), sentence_vectors[j].reshape(1,100))[0,0]"
   ]
  },
  {
   "cell_type": "code",
   "execution_count": 96,
   "metadata": {},
   "outputs": [],
   "source": [
    "import networkx as nx\n",
    "\n",
    "nx_graph = nx.from_numpy_array(sim_mat)\n",
    "scores = nx.pagerank(nx_graph)"
   ]
  },
  {
   "cell_type": "code",
   "execution_count": 97,
   "metadata": {},
   "outputs": [],
   "source": [
    "ranked_sentences = sorted(((scores[i],s) for i,s in enumerate(sentences)), reverse=True)"
   ]
  },
  {
   "cell_type": "code",
   "execution_count": 98,
   "metadata": {},
   "outputs": [
    {
     "name": "stdout",
     "output_type": "stream",
     "text": [
      "Brazil centre-back Thiago Silva signs for Chelsea on a one-year deal, with the option of another.\n",
      "Silvio Berlusconi has brought money, links to big-name players and success to AC Monza - but could they go all the way to Serie A?\n",
      "Lionel Messi tipped off Pep Guardiola over transfer request, Real put price tag on Serge Reguilon, Chelsea set to complete Kai Havertz deal, plus more.\n"
     ]
    }
   ],
   "source": [
    "# Extract top 10 sentences as the summary\n",
    "for i in range(3):\n",
    "  print(ranked_sentences[i][1])"
   ]
  },
  {
   "cell_type": "code",
   "execution_count": null,
   "metadata": {},
   "outputs": [],
   "source": []
  },
  {
   "cell_type": "code",
   "execution_count": null,
   "metadata": {},
   "outputs": [],
   "source": []
  },
  {
   "cell_type": "code",
   "execution_count": null,
   "metadata": {},
   "outputs": [],
   "source": []
  },
  {
   "cell_type": "code",
   "execution_count": null,
   "metadata": {},
   "outputs": [],
   "source": []
  }
 ],
 "metadata": {
  "kernelspec": {
   "display_name": "Python 3",
   "language": "python",
   "name": "python3"
  },
  "language_info": {
   "codemirror_mode": {
    "name": "ipython",
    "version": 3
   },
   "file_extension": ".py",
   "mimetype": "text/x-python",
   "name": "python",
   "nbconvert_exporter": "python",
   "pygments_lexer": "ipython3",
   "version": "3.7.4"
  }
 },
 "nbformat": 4,
 "nbformat_minor": 2
}
