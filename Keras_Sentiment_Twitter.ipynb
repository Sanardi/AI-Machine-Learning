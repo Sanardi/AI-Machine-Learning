{
  "nbformat": 4,
  "nbformat_minor": 0,
  "metadata": {
    "colab": {
      "name": "Keras_Sentiment_Twitter.ipynb",
      "provenance": [],
      "authorship_tag": "ABX9TyNCOVCdcJ+6/2BZkFxYvkH6",
      "include_colab_link": true
    },
    "kernelspec": {
      "name": "python3",
      "display_name": "Python 3"
    }
  },
  "cells": [
    {
      "cell_type": "markdown",
      "metadata": {
        "id": "view-in-github",
        "colab_type": "text"
      },
      "source": [
        "<a href=\"https://colab.research.google.com/github/Sanardi/AI-Machine-Learning/blob/master/Keras_Sentiment_Twitter.ipynb\" target=\"_parent\"><img src=\"https://colab.research.google.com/assets/colab-badge.svg\" alt=\"Open In Colab\"/></a>"
      ]
    },
    {
      "cell_type": "code",
      "metadata": {
        "id": "LpU5ipyeKA12",
        "colab_type": "code",
        "colab": {
          "base_uri": "https://localhost:8080/",
          "height": 36
        },
        "outputId": "57d60c62-60b1-42f1-fac4-7f3dc7699b77"
      },
      "source": [
        "# import all libraries\n",
        "import keras\n",
        "from keras.models import Sequential\n",
        "from keras.layers import Dense, Activation, Dropout\n",
        "from keras.layers.convolutional import Conv1D\n",
        "from keras.preprocessing.text import Tokenizer\n",
        "from keras.preprocessing.sequence import pad_sequences\n",
        "import pandas as pd\n",
        "import numpy as np\n",
        "import spacy\n",
        "nlp=spacy.load(\"en\")\n",
        "\n",
        "\n",
        "\n",
        "\n",
        "\n",
        "   \n"
      ],
      "execution_count": 2,
      "outputs": [
        {
          "output_type": "stream",
          "text": [
            "Using TensorFlow backend.\n"
          ],
          "name": "stderr"
        }
      ]
    },
    {
      "cell_type": "code",
      "metadata": {
        "id": "oSGLKiAlKtj7",
        "colab_type": "code",
        "colab": {}
      },
      "source": [
        ""
      ],
      "execution_count": 4,
      "outputs": []
    },
    {
      "cell_type": "code",
      "metadata": {
        "id": "B2PAgnaFNREW",
        "colab_type": "code",
        "colab": {}
      },
      "source": [
        "url = \"https://raw.githubusercontent.com/crwong/cs224u-project/master/data/sentiment/training.1600000.processed.noemoticon.csv\""
      ],
      "execution_count": 5,
      "outputs": []
    },
    {
      "cell_type": "code",
      "metadata": {
        "id": "3IFvU8Y4NVqk",
        "colab_type": "code",
        "colab": {
          "base_uri": "https://localhost:8080/",
          "height": 441
        },
        "outputId": "d263639a-7edd-4c3b-b630-1b18a0154af7"
      },
      "source": [
        "train = pd.read_csv(url, encoding = 'latin')\n",
        "train"
      ],
      "execution_count": 8,
      "outputs": [
        {
          "output_type": "execute_result",
          "data": {
            "text/html": [
              "<div>\n",
              "<style scoped>\n",
              "    .dataframe tbody tr th:only-of-type {\n",
              "        vertical-align: middle;\n",
              "    }\n",
              "\n",
              "    .dataframe tbody tr th {\n",
              "        vertical-align: top;\n",
              "    }\n",
              "\n",
              "    .dataframe thead th {\n",
              "        text-align: right;\n",
              "    }\n",
              "</style>\n",
              "<table border=\"1\" class=\"dataframe\">\n",
              "  <thead>\n",
              "    <tr style=\"text-align: right;\">\n",
              "      <th></th>\n",
              "      <th>0</th>\n",
              "      <th>1467810369</th>\n",
              "      <th>Mon Apr 06 22:19:45 PDT 2009</th>\n",
              "      <th>NO_QUERY</th>\n",
              "      <th>_TheSpecialOne_</th>\n",
              "      <th>@switchfoot http://twitpic.com/2y1zl - Awww, that's a bummer.  You shoulda got David Carr of Third Day to do it. ;D</th>\n",
              "    </tr>\n",
              "  </thead>\n",
              "  <tbody>\n",
              "    <tr>\n",
              "      <th>0</th>\n",
              "      <td>0</td>\n",
              "      <td>1467810672</td>\n",
              "      <td>Mon Apr 06 22:19:49 PDT 2009</td>\n",
              "      <td>NO_QUERY</td>\n",
              "      <td>scotthamilton</td>\n",
              "      <td>is upset that he can't update his Facebook by ...</td>\n",
              "    </tr>\n",
              "    <tr>\n",
              "      <th>1</th>\n",
              "      <td>0</td>\n",
              "      <td>1467810917</td>\n",
              "      <td>Mon Apr 06 22:19:53 PDT 2009</td>\n",
              "      <td>NO_QUERY</td>\n",
              "      <td>mattycus</td>\n",
              "      <td>@Kenichan I dived many times for the ball. Man...</td>\n",
              "    </tr>\n",
              "    <tr>\n",
              "      <th>2</th>\n",
              "      <td>0</td>\n",
              "      <td>1467811184</td>\n",
              "      <td>Mon Apr 06 22:19:57 PDT 2009</td>\n",
              "      <td>NO_QUERY</td>\n",
              "      <td>ElleCTF</td>\n",
              "      <td>my whole body feels itchy and like its on fire</td>\n",
              "    </tr>\n",
              "    <tr>\n",
              "      <th>3</th>\n",
              "      <td>0</td>\n",
              "      <td>1467811193</td>\n",
              "      <td>Mon Apr 06 22:19:57 PDT 2009</td>\n",
              "      <td>NO_QUERY</td>\n",
              "      <td>Karoli</td>\n",
              "      <td>@nationwideclass no, it's not behaving at all....</td>\n",
              "    </tr>\n",
              "    <tr>\n",
              "      <th>4</th>\n",
              "      <td>0</td>\n",
              "      <td>1467811372</td>\n",
              "      <td>Mon Apr 06 22:20:00 PDT 2009</td>\n",
              "      <td>NO_QUERY</td>\n",
              "      <td>joy_wolf</td>\n",
              "      <td>@Kwesidei not the whole crew</td>\n",
              "    </tr>\n",
              "    <tr>\n",
              "      <th>...</th>\n",
              "      <td>...</td>\n",
              "      <td>...</td>\n",
              "      <td>...</td>\n",
              "      <td>...</td>\n",
              "      <td>...</td>\n",
              "      <td>...</td>\n",
              "    </tr>\n",
              "    <tr>\n",
              "      <th>19994</th>\n",
              "      <td>4</td>\n",
              "      <td>2193601966</td>\n",
              "      <td>Tue Jun 16 08:40:49 PDT 2009</td>\n",
              "      <td>NO_QUERY</td>\n",
              "      <td>AmandaMarie1028</td>\n",
              "      <td>Just woke up. Having no school is the best fee...</td>\n",
              "    </tr>\n",
              "    <tr>\n",
              "      <th>19995</th>\n",
              "      <td>4</td>\n",
              "      <td>2193601969</td>\n",
              "      <td>Tue Jun 16 08:40:49 PDT 2009</td>\n",
              "      <td>NO_QUERY</td>\n",
              "      <td>TheWDBoards</td>\n",
              "      <td>TheWDB.com - Very cool to hear old Walt interv...</td>\n",
              "    </tr>\n",
              "    <tr>\n",
              "      <th>19996</th>\n",
              "      <td>4</td>\n",
              "      <td>2193601991</td>\n",
              "      <td>Tue Jun 16 08:40:49 PDT 2009</td>\n",
              "      <td>NO_QUERY</td>\n",
              "      <td>bpbabe</td>\n",
              "      <td>Are you ready for your MoJo Makeover? Ask me f...</td>\n",
              "    </tr>\n",
              "    <tr>\n",
              "      <th>19997</th>\n",
              "      <td>4</td>\n",
              "      <td>2193602064</td>\n",
              "      <td>Tue Jun 16 08:40:49 PDT 2009</td>\n",
              "      <td>NO_QUERY</td>\n",
              "      <td>tinydiamondz</td>\n",
              "      <td>Happy 38th Birthday to my boo of alll time!!! ...</td>\n",
              "    </tr>\n",
              "    <tr>\n",
              "      <th>19998</th>\n",
              "      <td>4</td>\n",
              "      <td>2193602129</td>\n",
              "      <td>Tue Jun 16 08:40:50 PDT 2009</td>\n",
              "      <td>NO_QUERY</td>\n",
              "      <td>RyanTrevMorris</td>\n",
              "      <td>happy #charitytuesday @theNSPCC @SparksCharity...</td>\n",
              "    </tr>\n",
              "  </tbody>\n",
              "</table>\n",
              "<p>19999 rows × 6 columns</p>\n",
              "</div>"
            ],
            "text/plain": [
              "       0  ...  @switchfoot http://twitpic.com/2y1zl - Awww, that's a bummer.  You shoulda got David Carr of Third Day to do it. ;D\n",
              "0      0  ...  is upset that he can't update his Facebook by ...                                                                  \n",
              "1      0  ...  @Kenichan I dived many times for the ball. Man...                                                                  \n",
              "2      0  ...    my whole body feels itchy and like its on fire                                                                   \n",
              "3      0  ...  @nationwideclass no, it's not behaving at all....                                                                  \n",
              "4      0  ...                      @Kwesidei not the whole crew                                                                   \n",
              "...   ..  ...                                                ...                                                                  \n",
              "19994  4  ...  Just woke up. Having no school is the best fee...                                                                  \n",
              "19995  4  ...  TheWDB.com - Very cool to hear old Walt interv...                                                                  \n",
              "19996  4  ...  Are you ready for your MoJo Makeover? Ask me f...                                                                  \n",
              "19997  4  ...  Happy 38th Birthday to my boo of alll time!!! ...                                                                  \n",
              "19998  4  ...  happy #charitytuesday @theNSPCC @SparksCharity...                                                                  \n",
              "\n",
              "[19999 rows x 6 columns]"
            ]
          },
          "metadata": {
            "tags": []
          },
          "execution_count": 8
        }
      ]
    },
    {
      "cell_type": "markdown",
      "metadata": {
        "id": "VdPFfOG7NUu9",
        "colab_type": "text"
      },
      "source": [
        ""
      ]
    },
    {
      "cell_type": "code",
      "metadata": {
        "id": "9a9aTaVSKXUh",
        "colab_type": "code",
        "colab": {}
      },
      "source": [
        "#load the dataset\n",
        "#train=pd.read_csv(\"../datasets/training.1600000.processed.noemoticon.csv\" , encoding= \"latin-1\")\n",
        "Y_train = train[train.columns[0]]\n",
        "X_train = train[train.columns[5]]"
      ],
      "execution_count": 9,
      "outputs": []
    },
    {
      "cell_type": "code",
      "metadata": {
        "id": "3C5QOllpXGV2",
        "colab_type": "code",
        "colab": {
          "base_uri": "https://localhost:8080/",
          "height": 463
        },
        "outputId": "98b76967-e6ee-4f9a-8acf-a7bac7994fb9"
      },
      "source": [
        "!wget http://nlp.stanford.edu/data/glove.6B.zip\n",
        "!unzip -q glove.6B.zip\n"
      ],
      "execution_count": 14,
      "outputs": [
        {
          "output_type": "stream",
          "text": [
            "--2020-08-02 14:47:09--  http://nlp.stanford.edu/data/glove.6B.zip\n",
            "Resolving nlp.stanford.edu (nlp.stanford.edu)... 171.64.67.140\n",
            "Connecting to nlp.stanford.edu (nlp.stanford.edu)|171.64.67.140|:80... connected.\n",
            "HTTP request sent, awaiting response... 302 Found\n",
            "Location: https://nlp.stanford.edu/data/glove.6B.zip [following]\n",
            "--2020-08-02 14:47:09--  https://nlp.stanford.edu/data/glove.6B.zip\n",
            "Connecting to nlp.stanford.edu (nlp.stanford.edu)|171.64.67.140|:443... connected.\n",
            "HTTP request sent, awaiting response... 301 Moved Permanently\n",
            "Location: http://downloads.cs.stanford.edu/nlp/data/glove.6B.zip [following]\n",
            "--2020-08-02 14:47:10--  http://downloads.cs.stanford.edu/nlp/data/glove.6B.zip\n",
            "Resolving downloads.cs.stanford.edu (downloads.cs.stanford.edu)... 171.64.64.22\n",
            "Connecting to downloads.cs.stanford.edu (downloads.cs.stanford.edu)|171.64.64.22|:80... connected.\n",
            "HTTP request sent, awaiting response... 200 OK\n",
            "Length: 862182613 (822M) [application/zip]\n",
            "Saving to: ‘glove.6B.zip.1’\n",
            "\n",
            "glove.6B.zip.1      100%[===================>] 822.24M  1.96MB/s    in 6m 29s  \n",
            "\n",
            "2020-08-02 14:53:39 (2.11 MB/s) - ‘glove.6B.zip.1’ saved [862182613/862182613]\n",
            "\n",
            "replace glove.6B.50d.txt? [y]es, [n]o, [A]ll, [N]one, [r]ename: n\n",
            "replace glove.6B.100d.txt? [y]es, [n]o, [A]ll, [N]one, [r]ename: n\n",
            "replace glove.6B.200d.txt? [y]es, [n]o, [A]ll, [N]one, [r]ename: n\n",
            "replace glove.6B.300d.txt? [y]es, [n]o, [A]ll, [N]one, [r]ename: n\n"
          ],
          "name": "stdout"
        }
      ]
    },
    {
      "cell_type": "code",
      "metadata": {
        "id": "yvdDZg-Go9MD",
        "colab_type": "code",
        "colab": {
          "base_uri": "https://localhost:8080/",
          "height": 36
        },
        "outputId": "4085ec3a-a248-4a69-c29f-185076d1d313"
      },
      "source": [
        "import os\n",
        "\n",
        "path_to_glove_file = \"glove.6B.100d.txt\"\n",
        "\n",
        "\n",
        "embeddings_index = {}\n",
        "with open(path_to_glove_file) as f:\n",
        "    for line in f:\n",
        "        word, coefs = line.split(maxsplit=1)\n",
        "        coefs = np.fromstring(coefs, \"f\", sep=\" \")\n",
        "        embeddings_index[word] = coefs\n",
        "\n",
        "print(\"Found %s word vectors.\" % len(embeddings_index))\n"
      ],
      "execution_count": 19,
      "outputs": [
        {
          "output_type": "stream",
          "text": [
            "Found 400000 word vectors.\n"
          ],
          "name": "stdout"
        }
      ]
    },
    {
      "cell_type": "code",
      "metadata": {
        "id": "OaRum72gbUrL",
        "colab_type": "code",
        "colab": {}
      },
      "source": [
        ""
      ],
      "execution_count": 20,
      "outputs": []
    },
    {
      "cell_type": "code",
      "metadata": {
        "id": "e2aaQpdNKiWu",
        "colab_type": "code",
        "colab": {
          "base_uri": "https://localhost:8080/",
          "height": 54
        },
        "outputId": "12521b14-1379-48be-bd0d-2e2260ba4559"
      },
      "source": [
        "\n",
        "\n",
        "# split the data into test and train\n",
        "from sklearn.model_selection import train_test_split\n",
        "trainset1x, trainset2x, trainset1y, trainset2y = train_test_split(X_train.values, Y_train.values, test_size=0.02,random_state=42 )\n",
        "trainset2y=pd.get_dummies(trainset2y)\n",
        "\n",
        "# function to remove stopwords\n",
        "def stopwords(sentence):\n",
        "    new=[]\n",
        "    sentence=nlp(sentence)\n",
        "    for w in sentence:\n",
        "        if (w.is_stop == False) & (w.pos_ !=\"PUNCT\"):\n",
        "            new.append(w.string.strip())\n",
        "        c=\" \".join(str(x) for x in new)\n",
        "    return c\n",
        "\n",
        "# function to lemmatize the tweets\n",
        "def lemmatize(sentence):\n",
        "    sentence=nlp(sentence)\n",
        "    str=\"\"\n",
        "    for w in sentence:\n",
        "        str+=\" \"+w.lemma_\n",
        "    return nlp(str)\n",
        "\n",
        "#loading the glove model\n",
        "def loadGloveModel(gloveFile):\n",
        "    print(\"Loading Glove Model\")\n",
        "    f = open(gloveFile,'r')\n",
        "    model = {}\n",
        "    for line in f:\n",
        "        splitLine = line.split()\n",
        "        word = splitLine[0]\n",
        "        embedding = [float(val) for val in splitLine[1:]]\n",
        "        model[word] = embedding\n",
        "    print (\"Done.\"),len(model),(\" words loaded!\")\n",
        "    return model\n",
        "\n",
        "# save the glove model\n",
        "model=loadGloveModel(\"glove.6B.100d.txt\")\n",
        "\n",
        "#vectorising the sentences\n",
        "def sent_vectorizer(sent, model):\n",
        "    sent_vec = np.zeros(200)\n",
        "    numw = 0\n",
        "    for w in sent.split():\n",
        "        try:\n",
        "            sent_vec = np.add(sent_vec, model[str(w)])\n",
        "            numw+=1\n",
        "        except:\n",
        "            pass\n",
        "    return sent_vec\n",
        "\n",
        "#obtain a clean vector\n",
        "cleanvector=[]\n",
        "for i in range(trainset2x.shape[0]):\n",
        "    document=trainset2x[i]\n",
        "    document=document.lower()\n",
        "    document=lemmatize(document)\n",
        "    document=str(document)\n",
        "    cleanvector.append(sent_vectorizer(document,model))\n",
        "\n",
        "#Getting the input and output in proper shape\n",
        "cleanvector=np.array(cleanvector)\n",
        "cleanvector =cleanvector.reshape(len(cleanvector),200,1)"
      ],
      "execution_count": 22,
      "outputs": [
        {
          "output_type": "stream",
          "text": [
            "Loading Glove Model\n",
            "Done.\n"
          ],
          "name": "stdout"
        }
      ]
    },
    {
      "cell_type": "code",
      "metadata": {
        "id": "zRgaFRsxbRJI",
        "colab_type": "code",
        "colab": {}
      },
      "source": [
        ""
      ],
      "execution_count": 22,
      "outputs": []
    },
    {
      "cell_type": "code",
      "metadata": {
        "id": "aWCEhzDeKXk0",
        "colab_type": "code",
        "colab": {
          "base_uri": "https://localhost:8080/",
          "height": 73
        },
        "outputId": "c2fe195f-91fa-41e0-ea8e-8fcc20307358"
      },
      "source": [
        "#tokenizing the sequences\n",
        "tokenizer = Tokenizer(num_words=16000)\n",
        "tokenizer.fit_on_texts(trainset2x)\n",
        "sequences = tokenizer.texts_to_sequences(trainset2x)\n",
        "word_index = tokenizer.word_index\n",
        "print('Found %s unique tokens.' % len(word_index))\n",
        "data = pad_sequences(sequences, maxlen=15, padding=\"post\")\n",
        "print(data.shape)\n",
        "\n",
        "#reshape the data and preparing to train\n",
        "data=data.reshape(len(cleanvector),15,1)\n",
        "from sklearn.model_selection import train_test_split\n",
        "trainx, validx, trainy, validy = train_test_split(data, trainset2y, test_size=0.3,random_state=42 )\n",
        "\n",
        "#calculate the number of words\n",
        "nb_words=len(tokenizer.word_index)+1\n",
        "\n",
        "#obtain theembedding matrix\n",
        "embedding_matrix = np.zeros((nb_words, 100))\n",
        "for word, i in word_index.items():\n",
        "    embedding_vector = model.get(word)\n",
        "    if embedding_vector is not None:\n",
        "        embedding_matrix[i] = embedding_vector\n",
        "print('Null word embeddings: %d' % np.sum(np.sum(embedding_matrix, axis=1) == 0))\n",
        "\n",
        "trainy=np.array(trainy)\n",
        "validy=np.array(validy)\n"
      ],
      "execution_count": 24,
      "outputs": [
        {
          "output_type": "stream",
          "text": [
            "Found 1873 unique tokens.\n",
            "(400, 15)\n",
            "Null word embeddings: 346\n"
          ],
          "name": "stdout"
        }
      ]
    },
    {
      "cell_type": "code",
      "metadata": {
        "id": "wTKIygcmKXoy",
        "colab_type": "code",
        "colab": {}
      },
      "source": [
        "#building a simple RNN model\n",
        "def modelbuild():\n",
        "    model = Sequential()\n",
        "    model.add(keras.layers.InputLayer(input_shape=(15,1)))\n",
        "    keras.layers.embeddings.Embedding(nb_words, 15, weights=[embedding_matrix], input_length=15,\n",
        "    trainable=False)\n",
        " \n",
        "    model.add(keras.layers.recurrent.SimpleRNN(units = 100, activation='relu',\n",
        "    use_bias=True))\n",
        "    model.add(keras.layers.Dense(units=1000, input_dim = 2000, activation='sigmoid'))\n",
        "    model.add(keras.layers.Dense(units=500, input_dim=1000, activation='relu'))\n",
        "    model.add(keras.layers.Dense(units=2, input_dim=500,activation='softmax'))\n",
        "    model.compile(loss='categorical_crossentropy', optimizer='adam', metrics=['accuracy'])\n",
        "    return model"
      ],
      "execution_count": 25,
      "outputs": []
    },
    {
      "cell_type": "code",
      "metadata": {
        "id": "z_yHK2hIKXsX",
        "colab_type": "code",
        "colab": {
          "base_uri": "https://localhost:8080/",
          "height": 425
        },
        "outputId": "8f05d4cc-839f-46e9-cdef-dd899f0af99a"
      },
      "source": [
        "#compiling the model\n",
        "finalmodel = modelbuild()\n",
        "finalmodel.fit(trainx, trainy, epochs=10, batch_size=120,validation_data=(validx,validy))"
      ],
      "execution_count": 26,
      "outputs": [
        {
          "output_type": "stream",
          "text": [
            "Train on 280 samples, validate on 120 samples\n",
            "Epoch 1/10\n",
            "280/280 [==============================] - 1s 2ms/step - loss: 2.2918 - accuracy: 0.5179 - val_loss: 1.5079 - val_accuracy: 0.5083\n",
            "Epoch 2/10\n",
            "280/280 [==============================] - 0s 275us/step - loss: 1.5988 - accuracy: 0.5321 - val_loss: 0.8959 - val_accuracy: 0.5083\n",
            "Epoch 3/10\n",
            "280/280 [==============================] - 0s 265us/step - loss: 0.7793 - accuracy: 0.5036 - val_loss: 0.9741 - val_accuracy: 0.4917\n",
            "Epoch 4/10\n",
            "280/280 [==============================] - 0s 285us/step - loss: 0.8782 - accuracy: 0.4679 - val_loss: 0.7292 - val_accuracy: 0.4833\n",
            "Epoch 5/10\n",
            "280/280 [==============================] - 0s 271us/step - loss: 0.6784 - accuracy: 0.5929 - val_loss: 0.8751 - val_accuracy: 0.5083\n",
            "Epoch 6/10\n",
            "280/280 [==============================] - 0s 262us/step - loss: 0.7616 - accuracy: 0.5571 - val_loss: 0.7637 - val_accuracy: 0.5083\n",
            "Epoch 7/10\n",
            "280/280 [==============================] - 0s 264us/step - loss: 0.6475 - accuracy: 0.6107 - val_loss: 0.7307 - val_accuracy: 0.5000\n",
            "Epoch 8/10\n",
            "280/280 [==============================] - 0s 267us/step - loss: 0.6569 - accuracy: 0.5679 - val_loss: 0.7456 - val_accuracy: 0.4833\n",
            "Epoch 9/10\n",
            "280/280 [==============================] - 0s 276us/step - loss: 0.6525 - accuracy: 0.6000 - val_loss: 0.7190 - val_accuracy: 0.5500\n",
            "Epoch 10/10\n",
            "280/280 [==============================] - 0s 271us/step - loss: 0.6089 - accuracy: 0.7036 - val_loss: 0.7514 - val_accuracy: 0.5167\n"
          ],
          "name": "stdout"
        },
        {
          "output_type": "execute_result",
          "data": {
            "text/plain": [
              "<keras.callbacks.callbacks.History at 0x7fc08413d8d0>"
            ]
          },
          "metadata": {
            "tags": []
          },
          "execution_count": 26
        }
      ]
    },
    {
      "cell_type": "code",
      "metadata": {
        "id": "TMRSNnagDDnQ",
        "colab_type": "code",
        "colab": {}
      },
      "source": [
        ""
      ],
      "execution_count": null,
      "outputs": []
    }
  ]
}