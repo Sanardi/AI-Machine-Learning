{
 "cells": [
  {
   "cell_type": "markdown",
   "metadata": {},
   "source": [
    "# A notebook to demonstrate the use of Natural Language Processing to reduce computational expense when trying various decryption algorithms on an unknown encrypted Text"
   ]
  },
  {
   "cell_type": "code",
   "execution_count": 3,
   "metadata": {},
   "outputs": [],
   "source": [
    "from textblob import TextBlob\n",
    "from textblob import Word\n",
    "\n",
    "from collections import Counter\n",
    "#!python -m textblob.download_corpora"
   ]
  },
  {
   "cell_type": "markdown",
   "metadata": {},
   "source": [
    "Using the Textblob Python Library to identity the occurance of verbs and advectives and their respective ratios to determine whether to continue decrypting with a given key or to move on to try the next"
   ]
  },
  {
   "cell_type": "code",
   "execution_count": 4,
   "metadata": {},
   "outputs": [],
   "source": [
    "def encrypt(text,s):\n",
    "    text = text.lower()\n",
    "    result = \"\"\n",
    "   # transverse the plain text\n",
    "    for i in range(len(text)):\n",
    "        char = text[i]\n",
    "      # Encrypt uppercase characters in plain text\n",
    "      \n",
    "        result += chr((ord(char) + s - 97) % 26 + 97)\n",
    "    return result"
   ]
  },
  {
   "cell_type": "markdown",
   "metadata": {},
   "source": [
    "# Please enter your secret below to get it enrypted and then try the NLP decrypter:"
   ]
  },
  {
   "cell_type": "code",
   "execution_count": 9,
   "metadata": {},
   "outputs": [
    {
     "name": "stdout",
     "output_type": "stream",
     "text": [
      "Here is a secret: I cannot tell you my secret, because I intend to post this on github!\n"
     ]
    }
   ],
   "source": [
    "my_secret = input()"
   ]
  },
  {
   "cell_type": "code",
   "execution_count": 10,
   "metadata": {},
   "outputs": [
    {
     "name": "stdout",
     "output_type": "stream",
     "text": [
      "Here is a secret: I cannot tell you my secret, because I intend to post this on github!  this encrypts to:  livirmwrerwigvixrrmrgerrsxrxipprcsyrqcrwigvixdrfigeywirmrmrxirhrxsrtswxrxlmwrsrrkmxlyfs\n"
     ]
    }
   ],
   "source": [
    "\n",
    "s = 4\n",
    "\n",
    "message1 = encrypt(my_secret,s)\n",
    "print(my_secret, \" this encrypts to: \", message1)"
   ]
  },
  {
   "cell_type": "code",
   "execution_count": 11,
   "metadata": {},
   "outputs": [],
   "source": [
    "\n",
    "class sanardi_decrypts:\n",
    "    def __init__(self, text, top = 5):\n",
    "        self.text = text\n",
    "        self.top = top\n",
    "        \n",
    "    def __str__(self):\n",
    "        return '''This Class lets pass as Argument\n",
    "        the text to be encrypted and will try different decryption \n",
    "        algoritms using NLP and Bayesian Statistics to decide if \n",
    "        the method is likely to result in intelligible text or move on, thus reducing computational expense'''\n",
    "    \n",
    "    \n",
    "    \n",
    "    def _getMaxOccuringChar(self):\n",
    "    \n",
    "        top_seperators = []\n",
    "        count = Counter(self.text)\n",
    "        dictcount = dict(count)\n",
    "        for i in range(self.top):\n",
    "            max_occur = max(dictcount.keys(), key=(lambda k: dictcount[k]))\n",
    "            top_seperators.append(max_occur)\n",
    "            dictcount.pop(max_occur)\n",
    "        return top_seperators \n",
    "\n",
    "    def _decrypt_with_key(self, seperator,key):\n",
    "        text = self.text.lower()\n",
    "        result = \"\"\n",
    "       # transverse the plain text\n",
    "        for i in range(len(text)):\n",
    "            char = text[i]\n",
    "          # Encrypt uppercase characters in plain text\n",
    "      \n",
    "            result += chr((ord(char) - key - 97) % 26 + 97)\n",
    "        return result\n",
    "\n",
    "\n",
    "    def _go_ceasar(self):\n",
    "        potential_seperators = self._getMaxOccuringChar()\n",
    "        print(\"trying separators: \", potential_seperators)\n",
    "        \n",
    "    \n",
    "        for seperator in potential_seperators:\n",
    "            print(\"trying seperator: \", seperator)\n",
    "            test_text = self.text[:100]\n",
    "            #print(\"sample text: \", test_text)\n",
    "            message = test_text.replace(seperator, \" \")\n",
    "            #message = test_text\n",
    "            LETTERS = \"abcdefghijklmnopqrstuvwxyz\"\n",
    "            for key in range(len(LETTERS)):\n",
    "                translated = ''\n",
    "                for symbol in message:\n",
    "                    if symbol in LETTERS:\n",
    "                        num = LETTERS.find(symbol)\n",
    "                        num = num - key\n",
    "                        if num < 0:\n",
    "                            num = num + len(LETTERS)\n",
    "                        translated = translated + LETTERS[num]\n",
    "                    else:\n",
    "                        translated = translated + symbol\n",
    "                print('Hacking key #%s: %s' % (key, translated))\n",
    "            \n",
    "                blob = TextBlob(translated.lower())\n",
    "                verbs = []\n",
    "                tags = dict(blob.tags)\n",
    "                print(tags)\n",
    "                \n",
    "                if \"VB\" in tags.values() and \"JJ\" in tags.values() or \"VB\" in tags.values() and \"JJ\" in tags.values() or \"DT\" in tags.values() and \"VB\" in tags.values() or \"TO\" in tags.values() and \"VB\" in tags.values():\n",
    "                \n",
    "                    print (\"This seems to be real text...\")\n",
    "                    new_seperator = self._decrypt_with_key(seperator, key)\n",
    "                    print(key)\n",
    "                    \n",
    "                    good_text = self.text.replace(new_seperator, \" \")\n",
    "                    #decrypted = decrypt_with_key(good_text, key)\n",
    "                    #good_text = decrypted.replace(new_seperator, \" \")\n",
    "                    \n",
    "                    decrypted = TextBlob(translated)\n",
    "                    decrypted = decrypted.correct()\n",
    "                    #return \"Your Ceasar Hacking key is {} and your message is:  {}\".format(key, translated)\n",
    "                    return \"Your Ceasar Hacking key is {} and your message is:  {}\".format(key, str(decrypted))\n",
    "    def run(self):\n",
    "        print(\"I will now check for ceasar cypher\")\n",
    "        result = self._go_ceasar()\n",
    "        return result"
   ]
  },
  {
   "cell_type": "code",
   "execution_count": 12,
   "metadata": {},
   "outputs": [],
   "source": [
    "try_this_class = sanardi_decrypts(message1, 5)"
   ]
  },
  {
   "cell_type": "code",
   "execution_count": 13,
   "metadata": {},
   "outputs": [
    {
     "name": "stdout",
     "output_type": "stream",
     "text": [
      "I will now check for ceasar cypher\n",
      "trying separators:  ['r', 'i', 'x', 'm', 'w']\n",
      "trying seperator:  r\n",
      "Hacking key #0: livi mw e wigvix  m ge  sx xipp csy qc wigvixd figeywi m m xi h xs tswx xlmw s  kmxlyfs\n",
      "{'livi': 'NN', 'mw': 'NN', 'e': 'NN', 'wigvix': 'VBD', 'm': 'NN', 'ge': 'NN', 'sx': 'NN', 'xipp': 'NNP', 'csy': 'NN', 'qc': 'NN', 'wigvixd': 'NN', 'figeywi': 'NN', 'xi': 'NNP', 'h': 'NN', 'xs': 'NNP', 'tswx': 'NN', 'xlmw': 'NNP', 's': 'NN', 'kmxlyfs': 'NN'}\n",
      "Hacking key #1: khuh lv d vhfuhw  l fd  rw whoo brx pb vhfuhwc ehfdxvh l l wh g wr srvw wklv r  jlwkxer\n",
      "{'khuh': 'NN', 'lv': 'NN', 'd': 'NN', 'vhfuhw': 'NN', 'l': 'NN', 'fd': 'NN', 'rw': 'NN', 'whoo': 'NN', 'brx': 'NN', 'pb': 'NN', 'vhfuhwc': 'NN', 'ehfdxvh': 'NN', 'wh': 'NN', 'g': 'NN', 'wr': 'NN', 'srvw': 'NN', 'wklv': 'NN', 'r': 'NN', 'jlwkxer': 'NN'}\n",
      "Hacking key #2: jgtg ku c ugetgv  k ec  qv vgnn aqw oa ugetgvb dgecwug k k vg f vq rquv vjku q  ikvjwdq\n",
      "{'jgtg': 'NN', 'ku': 'NN', 'c': 'NN', 'ugetgv': 'JJ', 'k': 'NNP', 'ec': 'NN', 'qv': 'NN', 'vgnn': 'NN', 'aqw': 'NN', 'oa': 'NN', 'ugetgvb': 'JJ', 'dgecwug': 'NN', 'vg': 'NNP', 'f': 'VBZ', 'vq': 'FW', 'rquv': 'NN', 'vjku': 'NN', 'q': 'NN', 'ikvjwdq': 'NN'}\n",
      "Hacking key #3: ifsf jt b tfdsfu  j db  pu ufmm zpv nz tfdsfua cfdbvtf j j uf e up qptu uijt p  hjuivcp\n",
      "{'ifsf': 'NN', 'jt': 'NN', 'b': 'NN', 'tfdsfu': 'NN', 'j': 'NN', 'db': 'NN', 'pu': 'NN', 'ufmm': 'JJ', 'zpv': 'NN', 'nz': 'NN', 'tfdsfua': 'NN', 'cfdbvtf': 'NN', 'uf': 'NN', 'e': 'VBZ', 'up': 'RP', 'qptu': 'JJ', 'uijt': 'JJ', 'p': 'NN', 'hjuivcp': 'NN'}\n",
      "Hacking key #4: here is a secret  i ca  ot tell you my secretz because i i te d to post this o  githubo\n",
      "{'here': 'RB', 'is': 'VBZ', 'a': 'DT', 'secret': 'JJ', 'i': 'VBP', 'ca': 'MD', 'ot': 'VB', 'tell': 'NN', 'you': 'PRP', 'my': 'PRP$', 'secretz': 'NN', 'because': 'IN', 'te': 'VBP', 'd': 'NN', 'to': 'TO', 'post': 'VB', 'this': 'DT', 'o': 'NN', 'githubo': 'NN'}\n",
      "This seems to be real text...\n",
      "4\n"
     ]
    },
    {
     "data": {
      "text/plain": [
       "'Your Ceasar Hacking key is 4 and your message is:  here is a secret  i ca  of tell you my secret because i i te d to post this o  githubo'"
      ]
     },
     "execution_count": 13,
     "metadata": {},
     "output_type": "execute_result"
    }
   ],
   "source": [
    "try_this_class.run()"
   ]
  },
  {
   "cell_type": "markdown",
   "metadata": {},
   "source": [
    "# So the NLP can recognize that the first 3 keys do not produce intelligible text, but the 4th does, therefore it stops decrypting once it found real text. "
   ]
  },
  {
   "cell_type": "code",
   "execution_count": null,
   "metadata": {},
   "outputs": [],
   "source": []
  }
 ],
 "metadata": {
  "kernelspec": {
   "display_name": "Python 3",
   "language": "python",
   "name": "python3"
  },
  "language_info": {
   "codemirror_mode": {
    "name": "ipython",
    "version": 3
   },
   "file_extension": ".py",
   "mimetype": "text/x-python",
   "name": "python",
   "nbconvert_exporter": "python",
   "pygments_lexer": "ipython3",
   "version": "3.7.4"
  }
 },
 "nbformat": 4,
 "nbformat_minor": 2
}
